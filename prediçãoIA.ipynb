{
  "nbformat": 4,
  "nbformat_minor": 0,
  "metadata": {
    "colab": {
      "provenance": [],
      "authorship_tag": "ABX9TyMwmsYHSUsX+sRjrmW1sRl6",
      "include_colab_link": true
    },
    "kernelspec": {
      "name": "python3",
      "display_name": "Python 3"
    },
    "language_info": {
      "name": "python"
    }
  },
  "cells": [
    {
      "cell_type": "markdown",
      "metadata": {
        "id": "view-in-github",
        "colab_type": "text"
      },
      "source": [
        "<a href=\"https://colab.research.google.com/github/fernandasouzx/Trabalho-final-IA/blob/main/predi%C3%A7%C3%A3oIA.ipynb\" target=\"_parent\"><img src=\"https://colab.research.google.com/assets/colab-badge.svg\" alt=\"Open In Colab\"/></a>"
      ]
    },
    {
      "cell_type": "code",
      "execution_count": null,
      "metadata": {
        "id": "S4lmr4OWa6Lr"
      },
      "outputs": [],
      "source": [
        "import pandas as pd\n"
      ]
    },
    {
      "cell_type": "code",
      "source": [
        "#leitura do train.csv\n",
        "df = pd.read_csv(\"train.csv\")\n",
        "print (df)"
      ],
      "metadata": {
        "colab": {
          "base_uri": "https://localhost:8080/"
        },
        "id": "D7MkNF25baMJ",
        "outputId": "94c7b92b-fe96-416c-ceb1-8254196aa153"
      },
      "execution_count": 6,
      "outputs": [
        {
          "output_type": "stream",
          "name": "stdout",
          "text": [
            "        DT_NOTIFIC CS_SEXO  CO_RG_RESI      ID_MN_RESI  CS_ZONA  NU_IDADE_N  \\\n",
            "0       2020-04-04       F         NaN  RIO DE JANEIRO      1.0          84   \n",
            "1       2020-05-07       M         NaN  RIO DE JANEIRO      1.0          68   \n",
            "2       2020-04-23       M      1331.0       SAO PAULO      1.0          44   \n",
            "3       2020-08-17       M      1553.0         CHAPECO      1.0          87   \n",
            "4       2020-08-14       F         NaN  RIO DE JANEIRO      1.0          91   \n",
            "...            ...     ...         ...             ...      ...         ...   \n",
            "498315  2020-05-24       F      1335.0         BARUERI      1.0          72   \n",
            "498316  2020-07-14       M      1488.0     PARAGOMINAS      1.0          41   \n",
            "498317  2020-08-23       M      1339.0       SEVERINIA      1.0          39   \n",
            "498318  2020-06-01       M      1331.0       SAO PAULO      1.0          59   \n",
            "498319  2020-05-28       F      1499.0         CARUARU      2.0          84   \n",
            "\n",
            "        CS_ESCOL_N  CS_RACA SG_UF  CS_GESTANT  ...  TOSSE  GARGANTA  \\\n",
            "0              9.0      2.0    RJ           5  ...    1.0       2.0   \n",
            "1              9.0      9.0    RJ           6  ...    1.0       NaN   \n",
            "2              9.0      4.0    SP           6  ...    1.0       2.0   \n",
            "3              1.0      1.0    SC           6  ...    1.0       2.0   \n",
            "4              9.0      9.0    RJ           6  ...    1.0       2.0   \n",
            "...            ...      ...   ...         ...  ...    ...       ...   \n",
            "498315         9.0      1.0    SP           6  ...    1.0       NaN   \n",
            "498316         3.0      4.0    PA           6  ...    1.0       2.0   \n",
            "498317         4.0      1.0    SP           6  ...    2.0       2.0   \n",
            "498318         NaN      2.0    SP           6  ...    1.0       NaN   \n",
            "498319         0.0      4.0    PE           5  ...    1.0       2.0   \n",
            "\n",
            "        DESC_RESP  DIARREIA  VOMITO  FADIGA  SATURACAO  DISPNEIA  VACINA  \\\n",
            "0             1.0       2.0     2.0     NaN        1.0       1.0     9.0   \n",
            "1             NaN       NaN     NaN     NaN        1.0       NaN     9.0   \n",
            "2             1.0       2.0     2.0     NaN        1.0       1.0     2.0   \n",
            "3             1.0       2.0     2.0     2.0        1.0       1.0     1.0   \n",
            "4             2.0       1.0     2.0     2.0        2.0       2.0     9.0   \n",
            "...           ...       ...     ...     ...        ...       ...     ...   \n",
            "498315        1.0       NaN     NaN     NaN        NaN       1.0     9.0   \n",
            "498316        2.0       2.0     2.0     NaN        2.0       1.0     2.0   \n",
            "498317        2.0       2.0     2.0     2.0        1.0       1.0     NaN   \n",
            "498318        1.0       NaN     NaN     NaN        1.0       NaN     9.0   \n",
            "498319        1.0       2.0     2.0     NaN        2.0       2.0     1.0   \n",
            "\n",
            "        EVOLUCAO  \n",
            "0            1.0  \n",
            "1            0.0  \n",
            "2            0.0  \n",
            "3            1.0  \n",
            "4            0.0  \n",
            "...          ...  \n",
            "498315       1.0  \n",
            "498316       0.0  \n",
            "498317       0.0  \n",
            "498318       0.0  \n",
            "498319       1.0  \n",
            "\n",
            "[498320 rows x 32 columns]\n"
          ]
        }
      ]
    }
  ]
}